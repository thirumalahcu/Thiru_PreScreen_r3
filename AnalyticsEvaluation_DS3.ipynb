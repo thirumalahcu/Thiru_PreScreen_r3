{
 "cells": [
  {
   "cell_type": "markdown",
   "metadata": {},
   "source": [
    "\n",
    "### Feed the following paragraph into your favourite data analytics tool, and answer the following;\n",
    "'''\n",
    "As a term, data analytics predominantly refers to an assortment of applications, from basic \n",
    "business intelligence (BI), reporting and online analytical processing (OLAP) to various forms of \n",
    "advanced analytics. In that sense, it's similar in nature to business analytics, another umbrella \n",
    "term for approaches to analyzing data -- with the difference that the latter is oriented to \n",
    "business uses, while data analytics has a broader focus. The expansive view of the term isn't \n",
    "universal, though: In some cases, people use data analytics specifically to mean advanced \n",
    "analytics, treating BI as a separate category. Data analytics initiatives can help businesses \n",
    "increase revenues, improve operational efficiency, optimize marketing campaigns and customer \n",
    "service efforts, respond more quickly to emerging market trends and gain a competitive edge \n",
    "over rivals -- all with the ultimate goal of boosting business performance. Depending on the \n",
    "particular application, the data that's analyzed can consist of either historical records or new \n",
    "information that has been processed for real-time analytics uses. In addition, it can come from a \n",
    "mix of internal systems and external data sources. At a high level, data analytics methodologies \n",
    "include exploratory data analysis (EDA), which aims to find patterns and relationships in data, \n",
    "and confirmatory data analysis (CDA), which applies statistical techniques to determine whether \n",
    "hypotheses about a data set are true or false. EDA is often compared to detective work, while \n",
    "CDA is akin to the work of a judge or jury during a court trial -- a distinction first drawn by \n",
    "statistician John W. Tukey in his 1977 book Exploratory Data Analysis. Data analytics can also \n",
    "be separated into quantitative data analysis and qualitative data analysis. The former involves \n",
    "analysis of numerical data with quantifiable variables that can be compared or measured \n",
    "statistically. The qualitative approach is more interpretive -- it focuses on understanding the \n",
    "content of non-numerical data like text, images, audio and video, including common phrases, \n",
    "themes and points of view.\n",
    "'''\n",
    "\n",
    "- a. What is the probability of the word “data” occurring in each line ?\n",
    "- b. What is the distribution of distinct word counts across all the lines ?\n",
    "- c. What is the probability of the word “analytics” occurring after the word “data” ?\n"
   ]
  },
  {
   "cell_type": "code",
   "execution_count": 8,
   "metadata": {},
   "outputs": [],
   "source": [
    "# Start with importing libraries\n",
    "import re\n",
    "from collections import Counter\n",
    "import pandas as pd\n",
    "import nltk \n",
    "from sklearn.feature_extraction.text import CountVectorizer, TfidfVectorizer \n",
    "from nltk.corpus import stopwords \n",
    "from nltk.tokenize import word_tokenize "
   ]
  },
  {
   "cell_type": "code",
   "execution_count": 9,
   "metadata": {},
   "outputs": [],
   "source": [
    "text = \"\"\"As a term, data analytics predominantly refers to an assortment of applications, from basic \n",
    "business intelligence (BI), reporting and online analytical processing (OLAP) to various forms of \n",
    "advanced analytics. In that sense, it's similar in nature to business analytics, another umbrella \n",
    "term for approaches to analyzing data -- with the difference that the latter is oriented to \n",
    "business uses, while data analytics has a broader focus. The expansive view of the term isn't \n",
    "universal, though: In some cases, people use data analytics specifically to mean advanced \n",
    "analytics, treating BI as a separate category. Data analytics initiatives can help businesses \n",
    "increase revenues, improve operational efficiency, optimize marketing campaigns and customer \n",
    "service efforts, respond more quickly to emerging market trends and gain a competitive edge \n",
    "over rivals -- all with the ultimate goal of boosting business performance. Depending on the \n",
    "particular application, the data that's analyzed can consist of either historical records or new \n",
    "information that has been processed for real-time analytics uses. In addition, it can come from a \n",
    "mix of internal systems and external data sources. At a high level, data analytics methodologies \n",
    "include exploratory data analysis (EDA), which aims to find patterns and relationships in data, \n",
    "and confirmatory data analysis (CDA), which applies statistical techniques to determine whether \n",
    "hypotheses about a data set are true or false. EDA is often compared to detective work, while \n",
    "CDA is akin to the work of a judge or jury during a court trial -- a distinction first drawn by \n",
    "statistician John W. Tukey in his 1977 book Exploratory Data Analysis. Data analytics can also \n",
    "be separated into quantitative data analysis and qualitative data analysis. The former involves \n",
    "analysis of numerical data with quantifiable variables that can be compared or measured \n",
    "statistically. The qualitative approach is more interpretive -- it focuses on understanding the \n",
    "content of non-numerical data like text, images, audio and video, including common phrases, \n",
    "themes and points of view.\"\"\""
   ]
  },
  {
   "cell_type": "code",
   "execution_count": 15,
   "metadata": {},
   "outputs": [
    {
     "data": {
      "text/plain": [
       "13"
      ]
     },
     "execution_count": 15,
     "metadata": {},
     "output_type": "execute_result"
    }
   ],
   "source": [
    "len(text.split('.'))"
   ]
  },
  {
   "cell_type": "code",
   "execution_count": 20,
   "metadata": {},
   "outputs": [],
   "source": [
    "lines = text.lower().split('\\n')"
   ]
  },
  {
   "cell_type": "code",
   "execution_count": 21,
   "metadata": {},
   "outputs": [
    {
     "data": {
      "text/plain": [
       "23"
      ]
     },
     "execution_count": 21,
     "metadata": {},
     "output_type": "execute_result"
    }
   ],
   "source": [
    "len(lines)"
   ]
  },
  {
   "cell_type": "code",
   "execution_count": 22,
   "metadata": {},
   "outputs": [
    {
     "data": {
      "text/plain": [
       "['as a term, data analytics predominantly refers to an assortment of applications, from basic ',\n",
       " 'business intelligence (bi), reporting and online analytical processing (olap) to various forms of ',\n",
       " \"advanced analytics. in that sense, it's similar in nature to business analytics, another umbrella \",\n",
       " 'term for approaches to analyzing data -- with the difference that the latter is oriented to ',\n",
       " \"business uses, while data analytics has a broader focus. the expansive view of the term isn't \",\n",
       " 'universal, though: in some cases, people use data analytics specifically to mean advanced ',\n",
       " 'analytics, treating bi as a separate category. data analytics initiatives can help businesses ',\n",
       " 'increase revenues, improve operational efficiency, optimize marketing campaigns and customer ',\n",
       " 'service efforts, respond more quickly to emerging market trends and gain a competitive edge ',\n",
       " 'over rivals -- all with the ultimate goal of boosting business performance. depending on the ',\n",
       " \"particular application, the data that's analyzed can consist of either historical records or new \",\n",
       " 'information that has been processed for real-time analytics uses. in addition, it can come from a ',\n",
       " 'mix of internal systems and external data sources. at a high level, data analytics methodologies ',\n",
       " 'include exploratory data analysis (eda), which aims to find patterns and relationships in data, ',\n",
       " 'and confirmatory data analysis (cda), which applies statistical techniques to determine whether ',\n",
       " 'hypotheses about a data set are true or false. eda is often compared to detective work, while ',\n",
       " 'cda is akin to the work of a judge or jury during a court trial -- a distinction first drawn by ',\n",
       " 'statistician john w. tukey in his 1977 book exploratory data analysis. data analytics can also ',\n",
       " 'be separated into quantitative data analysis and qualitative data analysis. the former involves ',\n",
       " 'analysis of numerical data with quantifiable variables that can be compared or measured ',\n",
       " 'statistically. the qualitative approach is more interpretive -- it focuses on understanding the ',\n",
       " 'content of non-numerical data like text, images, audio and video, including common phrases, ',\n",
       " 'themes and points of view.']"
      ]
     },
     "execution_count": 22,
     "metadata": {},
     "output_type": "execute_result"
    }
   ],
   "source": [
    "lines"
   ]
  },
  {
   "cell_type": "markdown",
   "metadata": {},
   "source": [
    "- a. What is the probability of the word “data” occurring in each line ?"
   ]
  },
  {
   "cell_type": "code",
   "execution_count": 25,
   "metadata": {},
   "outputs": [],
   "source": [
    "from collections import Counter"
   ]
  },
  {
   "cell_type": "code",
   "execution_count": 29,
   "metadata": {},
   "outputs": [
    {
     "data": {
      "text/plain": [
       "1"
      ]
     },
     "execution_count": 29,
     "metadata": {},
     "output_type": "execute_result"
    }
   ],
   "source": [
    "Counter(lines[0].split(' '))['data']"
   ]
  },
  {
   "cell_type": "code",
   "execution_count": 33,
   "metadata": {},
   "outputs": [],
   "source": [
    "data_count =[]\n",
    "for line in lines:\n",
    "    data_count.append(Counter(line.split(' '))['data'])"
   ]
  },
  {
   "cell_type": "code",
   "execution_count": 34,
   "metadata": {},
   "outputs": [
    {
     "data": {
      "text/plain": [
       "[1, 0, 0, 1, 1, 1, 1, 0, 0, 0, 1, 0, 2, 1, 1, 1, 0, 2, 2, 1, 0, 1, 0]"
      ]
     },
     "execution_count": 34,
     "metadata": {},
     "output_type": "execute_result"
    }
   ],
   "source": [
    "data_count"
   ]
  },
  {
   "cell_type": "code",
   "execution_count": 35,
   "metadata": {},
   "outputs": [
    {
     "data": {
      "text/plain": [
       "23"
      ]
     },
     "execution_count": 35,
     "metadata": {},
     "output_type": "execute_result"
    }
   ],
   "source": [
    "len(data_count)"
   ]
  },
  {
   "cell_type": "code",
   "execution_count": 45,
   "metadata": {},
   "outputs": [],
   "source": [
    "\n",
    "df = pd.DataFrame(zip(lines, data_count), columns = ['lines', 'data_count'])"
   ]
  },
  {
   "cell_type": "code",
   "execution_count": 53,
   "metadata": {},
   "outputs": [],
   "source": [
    "data_prob = len(df[df['data_count']>0])/ len(df)"
   ]
  },
  {
   "cell_type": "code",
   "execution_count": 54,
   "metadata": {},
   "outputs": [
    {
     "data": {
      "text/plain": [
       "0.6086956521739131"
      ]
     },
     "execution_count": 54,
     "metadata": {},
     "output_type": "execute_result"
    }
   ],
   "source": [
    "data_prob"
   ]
  },
  {
   "cell_type": "markdown",
   "metadata": {},
   "source": [
    "- b. What is the distribution of distinct word counts across all the lines ?"
   ]
  },
  {
   "cell_type": "code",
   "execution_count": 65,
   "metadata": {},
   "outputs": [],
   "source": [
    "text1 = ''.join(lines)\n",
    "new_text = re.sub(r\"[^a-zA-Z0-9 ]\", \"\", text1)"
   ]
  },
  {
   "cell_type": "code",
   "execution_count": 67,
   "metadata": {},
   "outputs": [
    {
     "data": {
      "text/plain": [
       "'as a term data analytics predominantly refers to an assortment of applications from basic business intelligence bi reporting and online analytical processing olap to various forms of advanced analytics in that sense its similar in nature to business analytics another umbrella term for approaches to analyzing data  with the difference that the latter is oriented to business uses while data analytics has a broader focus the expansive view of the term isnt universal though in some cases people use data analytics specifically to mean advanced analytics treating bi as a separate category data analytics initiatives can help businesses increase revenues improve operational efficiency optimize marketing campaigns and customer service efforts respond more quickly to emerging market trends and gain a competitive edge over rivals  all with the ultimate goal of boosting business performance depending on the particular application the data thats analyzed can consist of either historical records or new information that has been processed for realtime analytics uses in addition it can come from a mix of internal systems and external data sources at a high level data analytics methodologies include exploratory data analysis eda which aims to find patterns and relationships in data and confirmatory data analysis cda which applies statistical techniques to determine whether hypotheses about a data set are true or false eda is often compared to detective work while cda is akin to the work of a judge or jury during a court trial  a distinction first drawn by statistician john w tukey in his 1977 book exploratory data analysis data analytics can also be separated into quantitative data analysis and qualitative data analysis the former involves analysis of numerical data with quantifiable variables that can be compared or measured statistically the qualitative approach is more interpretive  it focuses on understanding the content of nonnumerical data like text images audio and video including common phrases themes and points of view'"
      ]
     },
     "execution_count": 67,
     "metadata": {},
     "output_type": "execute_result"
    }
   ],
   "source": [
    "new_text"
   ]
  },
  {
   "cell_type": "code",
   "execution_count": 68,
   "metadata": {},
   "outputs": [],
   "source": [
    "word_freq = Counter(new_text.lower().split(' '))"
   ]
  },
  {
   "cell_type": "code",
   "execution_count": 83,
   "metadata": {},
   "outputs": [
    {
     "data": {
      "text/plain": [
       "dict_items([('as', 2), ('a', 10), ('term', 3), ('data', 18), ('analytics', 10), ('predominantly', 1), ('refers', 1), ('to', 11), ('an', 1), ('assortment', 1), ('of', 10), ('applications', 1), ('from', 2), ('basic', 1), ('business', 4), ('intelligence', 1), ('bi', 2), ('reporting', 1), ('and', 9), ('online', 1), ('analytical', 1), ('processing', 1), ('olap', 1), ('various', 1), ('forms', 1), ('advanced', 2), ('in', 6), ('that', 4), ('sense', 1), ('its', 1), ('similar', 1), ('nature', 1), ('another', 1), ('umbrella', 1), ('for', 2), ('approaches', 1), ('analyzing', 1), ('', 4), ('with', 3), ('the', 11), ('difference', 1), ('latter', 1), ('is', 4), ('oriented', 1), ('uses', 2), ('while', 2), ('has', 2), ('broader', 1), ('focus', 1), ('expansive', 1), ('view', 2), ('isnt', 1), ('universal', 1), ('though', 1), ('some', 1), ('cases', 1), ('people', 1), ('use', 1), ('specifically', 1), ('mean', 1), ('treating', 1), ('separate', 1), ('category', 1), ('initiatives', 1), ('can', 5), ('help', 1), ('businesses', 1), ('increase', 1), ('revenues', 1), ('improve', 1), ('operational', 1), ('efficiency', 1), ('optimize', 1), ('marketing', 1), ('campaigns', 1), ('customer', 1), ('service', 1), ('efforts', 1), ('respond', 1), ('more', 2), ('quickly', 1), ('emerging', 1), ('market', 1), ('trends', 1), ('gain', 1), ('competitive', 1), ('edge', 1), ('over', 1), ('rivals', 1), ('all', 1), ('ultimate', 1), ('goal', 1), ('boosting', 1), ('performance', 1), ('depending', 1), ('on', 2), ('particular', 1), ('application', 1), ('thats', 1), ('analyzed', 1), ('consist', 1), ('either', 1), ('historical', 1), ('records', 1), ('or', 4), ('new', 1), ('information', 1), ('been', 1), ('processed', 1), ('realtime', 1), ('addition', 1), ('it', 2), ('come', 1), ('mix', 1), ('internal', 1), ('systems', 1), ('external', 1), ('sources', 1), ('at', 1), ('high', 1), ('level', 1), ('methodologies', 1), ('include', 1), ('exploratory', 2), ('analysis', 6), ('eda', 2), ('which', 2), ('aims', 1), ('find', 1), ('patterns', 1), ('relationships', 1), ('confirmatory', 1), ('cda', 2), ('applies', 1), ('statistical', 1), ('techniques', 1), ('determine', 1), ('whether', 1), ('hypotheses', 1), ('about', 1), ('set', 1), ('are', 1), ('true', 1), ('false', 1), ('often', 1), ('compared', 2), ('detective', 1), ('work', 2), ('akin', 1), ('judge', 1), ('jury', 1), ('during', 1), ('court', 1), ('trial', 1), ('distinction', 1), ('first', 1), ('drawn', 1), ('by', 1), ('statistician', 1), ('john', 1), ('w', 1), ('tukey', 1), ('his', 1), ('1977', 1), ('book', 1), ('also', 1), ('be', 2), ('separated', 1), ('into', 1), ('quantitative', 1), ('qualitative', 2), ('former', 1), ('involves', 1), ('numerical', 1), ('quantifiable', 1), ('variables', 1), ('measured', 1), ('statistically', 1), ('approach', 1), ('interpretive', 1), ('focuses', 1), ('understanding', 1), ('content', 1), ('nonnumerical', 1), ('like', 1), ('text', 1), ('images', 1), ('audio', 1), ('video', 1), ('including', 1), ('common', 1), ('phrases', 1), ('themes', 1), ('points', 1)])"
      ]
     },
     "execution_count": 83,
     "metadata": {},
     "output_type": "execute_result"
    }
   ],
   "source": [
    "word_freq.items()"
   ]
  },
  {
   "cell_type": "code",
   "execution_count": 79,
   "metadata": {},
   "outputs": [
    {
     "data": {
      "text/plain": [
       "194"
      ]
     },
     "execution_count": 79,
     "metadata": {},
     "output_type": "execute_result"
    }
   ],
   "source": [
    "len(word_freq.values())"
   ]
  },
  {
   "cell_type": "code",
   "execution_count": 81,
   "metadata": {},
   "outputs": [
    {
     "data": {
      "image/png": "[encoded data removed]",
      "text/plain": [
       "<Figure size 432x288 with 1 Axes>"
      ]
     },
     "metadata": {
      "needs_background": "light"
     },
     "output_type": "display_data"
    }
   ],
   "source": [
    "names = list(word_freq.keys())\n",
    "values = list(word_freq.values())\n",
    "plt.bar(range(len(word_freq)), values, tick_label=names)\n",
    "plt.show()"
   ]
  },
  {
   "cell_type": "markdown",
   "metadata": {},
   "source": [
    "- c. What is the probability of the word “analytics” occurring after the word “data” ?"
   ]
  },
  {
   "cell_type": "code",
   "execution_count": 76,
   "metadata": {},
   "outputs": [],
   "source": [
    "data_analytics_prob = new_text.count('data analytics')/new_text.count('data')"
   ]
  },
  {
   "cell_type": "code",
   "execution_count": 77,
   "metadata": {},
   "outputs": [
    {
     "data": {
      "text/plain": [
       "0.3333333333333333"
      ]
     },
     "execution_count": 77,
     "metadata": {},
     "output_type": "execute_result"
    }
   ],
   "source": [
    "data_analytics_prob"
   ]
  }
 ],
 "metadata": {
  "kernelspec": {
   "display_name": "Python 3.8.2 32-bit",
   "language": "python",
   "name": "python3"
  },
  "language_info": {
   "codemirror_mode": {
    "name": "ipython",
    "version": 3
   },
   "file_extension": ".py",
   "mimetype": "text/x-python",
   "name": "python",
   "nbconvert_exporter": "python",
   "pygments_lexer": "ipython3",
   "version": "3.8.2"
  },
  "vscode": {
   "interpreter": {
    "hash": "0e95d4b7575cf874ddaa99bc9820e36a40b21ad7b9f148ac9f164c4efa1483c1"
   }
  }
 },
 "nbformat": 4,
 "nbformat_minor": 4
}
