{
 "cells": [
  {
   "cell_type": "markdown",
   "metadata": {},
   "source": [
    "\n",
    "##### 2. A team of plantation planners are concerned about the yield of oil palm trees, which seems to fluctuate. They have collected a set of data and needed help in analysing on how external factors influence fresh fruit bunch (FFB) yield. Some experts are of opinion that the flowering of oil palm tree determines the FFB yield, and are linked to the external factors. \n",
    "- Perform the analysis, which requires some study on the background of oil palm tree physiology.\n"
   ]
  },
  {
   "cell_type": "code",
   "execution_count": 1,
   "metadata": {},
   "outputs": [],
   "source": [
    "import numpy as np\n",
    "import pandas as pd\n",
    "import matplotlib.pyplot as plt\n",
    "import seaborn as sns"
   ]
  },
  {
   "cell_type": "code",
   "execution_count": 2,
   "metadata": {},
   "outputs": [],
   "source": [
    "palm = pd.read_csv('palm_ffb.csv')"
   ]
  },
  {
   "cell_type": "code",
   "execution_count": 3,
   "metadata": {},
   "outputs": [
    {
     "name": "stdout",
     "output_type": "stream",
     "text": [
      "<class 'pandas.core.frame.DataFrame'>\n",
      "RangeIndex: 130 entries, 0 to 129\n",
      "Data columns (total 9 columns):\n",
      " #   Column         Non-Null Count  Dtype  \n",
      "---  ------         --------------  -----  \n",
      " 0   Date           130 non-null    object \n",
      " 1   SoilMoisture   130 non-null    float64\n",
      " 2   Average_Temp   130 non-null    float64\n",
      " 3   Min_Temp       130 non-null    float64\n",
      " 4   Max_Temp       130 non-null    float64\n",
      " 5   Precipitation  130 non-null    float64\n",
      " 6   Working_days   130 non-null    int64  \n",
      " 7   HA_Harvested   130 non-null    float64\n",
      " 8   FFB_Yield      130 non-null    float64\n",
      "dtypes: float64(7), int64(1), object(1)\n",
      "memory usage: 9.3+ KB\n"
     ]
    }
   ],
   "source": [
    "palm.info()"
   ]
  },
  {
   "cell_type": "code",
   "execution_count": 4,
   "metadata": {},
   "outputs": [
    {
     "data": {
      "text/html": [
       "<div>\n",
       "<style scoped>\n",
       "    .dataframe tbody tr th:only-of-type {\n",
       "        vertical-align: middle;\n",
       "    }\n",
       "\n",
       "    .dataframe tbody tr th {\n",
       "        vertical-align: top;\n",
       "    }\n",
       "\n",
       "    .dataframe thead th {\n",
       "        text-align: right;\n",
       "    }\n",
       "</style>\n",
       "<table border=\"1\" class=\"dataframe\">\n",
       "  <thead>\n",
       "    <tr style=\"text-align: right;\">\n",
       "      <th></th>\n",
       "      <th>Date</th>\n",
       "      <th>SoilMoisture</th>\n",
       "      <th>Average_Temp</th>\n",
       "      <th>Min_Temp</th>\n",
       "      <th>Max_Temp</th>\n",
       "      <th>Precipitation</th>\n",
       "      <th>Working_days</th>\n",
       "      <th>HA_Harvested</th>\n",
       "      <th>FFB_Yield</th>\n",
       "    </tr>\n",
       "  </thead>\n",
       "  <tbody>\n",
       "    <tr>\n",
       "      <th>0</th>\n",
       "      <td>01.01.2008</td>\n",
       "      <td>616.4</td>\n",
       "      <td>25.306452</td>\n",
       "      <td>21.3</td>\n",
       "      <td>32.2</td>\n",
       "      <td>184.4</td>\n",
       "      <td>25</td>\n",
       "      <td>777778.3951</td>\n",
       "      <td>1.62</td>\n",
       "    </tr>\n",
       "    <tr>\n",
       "      <th>1</th>\n",
       "      <td>01.02.2008</td>\n",
       "      <td>568.9</td>\n",
       "      <td>26.165517</td>\n",
       "      <td>20.9</td>\n",
       "      <td>35.1</td>\n",
       "      <td>140.2</td>\n",
       "      <td>23</td>\n",
       "      <td>767988.2759</td>\n",
       "      <td>1.45</td>\n",
       "    </tr>\n",
       "    <tr>\n",
       "      <th>2</th>\n",
       "      <td>01.03.2008</td>\n",
       "      <td>577.6</td>\n",
       "      <td>25.448387</td>\n",
       "      <td>21.3</td>\n",
       "      <td>32.9</td>\n",
       "      <td>280.4</td>\n",
       "      <td>25</td>\n",
       "      <td>783951.9231</td>\n",
       "      <td>1.56</td>\n",
       "    </tr>\n",
       "    <tr>\n",
       "      <th>3</th>\n",
       "      <td>01.04.2008</td>\n",
       "      <td>581.1</td>\n",
       "      <td>26.903333</td>\n",
       "      <td>20.6</td>\n",
       "      <td>34.8</td>\n",
       "      <td>173.3</td>\n",
       "      <td>25</td>\n",
       "      <td>788987.0504</td>\n",
       "      <td>1.39</td>\n",
       "    </tr>\n",
       "    <tr>\n",
       "      <th>4</th>\n",
       "      <td>01.05.2008</td>\n",
       "      <td>545.4</td>\n",
       "      <td>27.241935</td>\n",
       "      <td>20.9</td>\n",
       "      <td>35.0</td>\n",
       "      <td>140.6</td>\n",
       "      <td>25</td>\n",
       "      <td>813659.7222</td>\n",
       "      <td>1.44</td>\n",
       "    </tr>\n",
       "  </tbody>\n",
       "</table>\n",
       "</div>"
      ],
      "text/plain": [
       "         Date  SoilMoisture  Average_Temp  Min_Temp  Max_Temp  Precipitation  \\\n",
       "0  01.01.2008         616.4     25.306452      21.3      32.2          184.4   \n",
       "1  01.02.2008         568.9     26.165517      20.9      35.1          140.2   \n",
       "2  01.03.2008         577.6     25.448387      21.3      32.9          280.4   \n",
       "3  01.04.2008         581.1     26.903333      20.6      34.8          173.3   \n",
       "4  01.05.2008         545.4     27.241935      20.9      35.0          140.6   \n",
       "\n",
       "   Working_days  HA_Harvested  FFB_Yield  \n",
       "0            25   777778.3951       1.62  \n",
       "1            23   767988.2759       1.45  \n",
       "2            25   783951.9231       1.56  \n",
       "3            25   788987.0504       1.39  \n",
       "4            25   813659.7222       1.44  "
      ]
     },
     "execution_count": 4,
     "metadata": {},
     "output_type": "execute_result"
    }
   ],
   "source": [
    "palm.head()"
   ]
  },
  {
   "cell_type": "code",
   "execution_count": 5,
   "metadata": {},
   "outputs": [
    {
     "data": {
      "text/plain": [
       "(130, 9)"
      ]
     },
     "execution_count": 5,
     "metadata": {},
     "output_type": "execute_result"
    }
   ],
   "source": [
    "palm.shape"
   ]
  },
  {
   "cell_type": "code",
   "execution_count": 6,
   "metadata": {},
   "outputs": [
    {
     "data": {
      "text/html": [
       "<div>\n",
       "<style scoped>\n",
       "    .dataframe tbody tr th:only-of-type {\n",
       "        vertical-align: middle;\n",
       "    }\n",
       "\n",
       "    .dataframe tbody tr th {\n",
       "        vertical-align: top;\n",
       "    }\n",
       "\n",
       "    .dataframe thead th {\n",
       "        text-align: right;\n",
       "    }\n",
       "</style>\n",
       "<table border=\"1\" class=\"dataframe\">\n",
       "  <thead>\n",
       "    <tr style=\"text-align: right;\">\n",
       "      <th></th>\n",
       "      <th>SoilMoisture</th>\n",
       "      <th>Average_Temp</th>\n",
       "      <th>Min_Temp</th>\n",
       "      <th>Max_Temp</th>\n",
       "      <th>Precipitation</th>\n",
       "      <th>Working_days</th>\n",
       "      <th>HA_Harvested</th>\n",
       "      <th>FFB_Yield</th>\n",
       "    </tr>\n",
       "  </thead>\n",
       "  <tbody>\n",
       "    <tr>\n",
       "      <th>count</th>\n",
       "      <td>130.000000</td>\n",
       "      <td>130.000000</td>\n",
       "      <td>130.000000</td>\n",
       "      <td>130.000000</td>\n",
       "      <td>130.000000</td>\n",
       "      <td>130.000000</td>\n",
       "      <td>130.000000</td>\n",
       "      <td>130.000000</td>\n",
       "    </tr>\n",
       "    <tr>\n",
       "      <th>mean</th>\n",
       "      <td>527.646923</td>\n",
       "      <td>26.849918</td>\n",
       "      <td>21.379231</td>\n",
       "      <td>33.851538</td>\n",
       "      <td>188.980769</td>\n",
       "      <td>24.753846</td>\n",
       "      <td>793404.491565</td>\n",
       "      <td>1.602231</td>\n",
       "    </tr>\n",
       "    <tr>\n",
       "      <th>std</th>\n",
       "      <td>57.367844</td>\n",
       "      <td>0.651413</td>\n",
       "      <td>0.688971</td>\n",
       "      <td>1.079638</td>\n",
       "      <td>80.237210</td>\n",
       "      <td>1.239289</td>\n",
       "      <td>34440.893854</td>\n",
       "      <td>0.281751</td>\n",
       "    </tr>\n",
       "    <tr>\n",
       "      <th>min</th>\n",
       "      <td>380.700000</td>\n",
       "      <td>25.158065</td>\n",
       "      <td>18.900000</td>\n",
       "      <td>31.100000</td>\n",
       "      <td>2.000000</td>\n",
       "      <td>21.000000</td>\n",
       "      <td>683431.944400</td>\n",
       "      <td>1.080000</td>\n",
       "    </tr>\n",
       "    <tr>\n",
       "      <th>25%</th>\n",
       "      <td>488.625000</td>\n",
       "      <td>26.442285</td>\n",
       "      <td>21.000000</td>\n",
       "      <td>33.100000</td>\n",
       "      <td>140.300000</td>\n",
       "      <td>24.000000</td>\n",
       "      <td>768966.949100</td>\n",
       "      <td>1.390000</td>\n",
       "    </tr>\n",
       "    <tr>\n",
       "      <th>50%</th>\n",
       "      <td>538.300000</td>\n",
       "      <td>26.930645</td>\n",
       "      <td>21.500000</td>\n",
       "      <td>33.900000</td>\n",
       "      <td>182.150000</td>\n",
       "      <td>25.000000</td>\n",
       "      <td>790036.158050</td>\n",
       "      <td>1.585000</td>\n",
       "    </tr>\n",
       "    <tr>\n",
       "      <th>75%</th>\n",
       "      <td>571.025000</td>\n",
       "      <td>27.270726</td>\n",
       "      <td>21.800000</td>\n",
       "      <td>34.600000</td>\n",
       "      <td>226.100000</td>\n",
       "      <td>26.000000</td>\n",
       "      <td>821989.235250</td>\n",
       "      <td>1.807500</td>\n",
       "    </tr>\n",
       "    <tr>\n",
       "      <th>max</th>\n",
       "      <td>647.300000</td>\n",
       "      <td>28.580000</td>\n",
       "      <td>22.600000</td>\n",
       "      <td>36.000000</td>\n",
       "      <td>496.100000</td>\n",
       "      <td>27.000000</td>\n",
       "      <td>882254.225400</td>\n",
       "      <td>2.270000</td>\n",
       "    </tr>\n",
       "  </tbody>\n",
       "</table>\n",
       "</div>"
      ],
      "text/plain": [
       "       SoilMoisture  Average_Temp    Min_Temp    Max_Temp  Precipitation  \\\n",
       "count    130.000000    130.000000  130.000000  130.000000     130.000000   \n",
       "mean     527.646923     26.849918   21.379231   33.851538     188.980769   \n",
       "std       57.367844      0.651413    0.688971    1.079638      80.237210   \n",
       "min      380.700000     25.158065   18.900000   31.100000       2.000000   \n",
       "25%      488.625000     26.442285   21.000000   33.100000     140.300000   \n",
       "50%      538.300000     26.930645   21.500000   33.900000     182.150000   \n",
       "75%      571.025000     27.270726   21.800000   34.600000     226.100000   \n",
       "max      647.300000     28.580000   22.600000   36.000000     496.100000   \n",
       "\n",
       "       Working_days   HA_Harvested   FFB_Yield  \n",
       "count    130.000000     130.000000  130.000000  \n",
       "mean      24.753846  793404.491565    1.602231  \n",
       "std        1.239289   34440.893854    0.281751  \n",
       "min       21.000000  683431.944400    1.080000  \n",
       "25%       24.000000  768966.949100    1.390000  \n",
       "50%       25.000000  790036.158050    1.585000  \n",
       "75%       26.000000  821989.235250    1.807500  \n",
       "max       27.000000  882254.225400    2.270000  "
      ]
     },
     "execution_count": 6,
     "metadata": {},
     "output_type": "execute_result"
    }
   ],
   "source": [
    "palm.describe()"
   ]
  },
  {
   "cell_type": "markdown",
   "metadata": {},
   "source": [
    "Observations:\n",
    "- No Nulls\n",
    "- Apperantly no outliers except in 'Precipitation' - but can be seasonal impact "
   ]
  },
  {
   "cell_type": "code",
   "execution_count": 7,
   "metadata": {},
   "outputs": [],
   "source": [
    "import matplotlib.pyplot as plt\n",
    "import seaborn as sn"
   ]
  },
  {
   "cell_type": "code",
   "execution_count": 8,
   "metadata": {},
   "outputs": [
    {
     "data": {
      "text/plain": [
       "Index(['Date', 'SoilMoisture', 'Average_Temp', 'Min_Temp', 'Max_Temp',\n",
       "       'Precipitation', 'Working_days', 'HA_Harvested', 'FFB_Yield'],\n",
       "      dtype='object')"
      ]
     },
     "execution_count": 8,
     "metadata": {},
     "output_type": "execute_result"
    }
   ],
   "source": [
    "palm.columns"
   ]
  },
  {
   "cell_type": "code",
   "execution_count": 9,
   "metadata": {},
   "outputs": [
    {
     "data": {
      "text/plain": [
       "<AxesSubplot:>"
      ]
     },
     "execution_count": 9,
     "metadata": {},
     "output_type": "execute_result"
    },
    {
     "data": {
      "image/png": "[encoded data removed]",
      "text/plain": [
       "<Figure size 432x288 with 2 Axes>"
      ]
     },
     "metadata": {
      "needs_background": "light"
     },
     "output_type": "display_data"
    }
   ],
   "source": [
    "#plotting the heatmap for correlation\n",
    "sns.heatmap(round(palm.corr(),2), annot=True,cmap='RdYlGn')"
   ]
  },
  {
   "cell_type": "markdown",
   "metadata": {},
   "source": [
    "Obervation: From the correlation Matrix \n",
    "- HA_Harvested is having negative impact on FFB_Yield\n",
    "- Precipitation is having postive impact on FFB_Yield"
   ]
  },
  {
   "cell_type": "code",
   "execution_count": 10,
   "metadata": {},
   "outputs": [],
   "source": [
    "#!pip install statsmodels"
   ]
  },
  {
   "cell_type": "code",
   "execution_count": 11,
   "metadata": {},
   "outputs": [],
   "source": [
    "import statsmodels.api as sm\n",
    "import pandas as pd"
   ]
  },
  {
   "cell_type": "code",
   "execution_count": 12,
   "metadata": {},
   "outputs": [],
   "source": [
    "x = palm.drop(columns=['Date','FFB_Yield'])\n",
    "y = palm['FFB_Yield']"
   ]
  },
  {
   "cell_type": "code",
   "execution_count": 13,
   "metadata": {},
   "outputs": [
    {
     "name": "stdout",
     "output_type": "stream",
     "text": [
      "                            OLS Regression Results                            \n",
      "==============================================================================\n",
      "Dep. Variable:              FFB_Yield   R-squared:                       0.254\n",
      "Model:                            OLS   Adj. R-squared:                  0.211\n",
      "Method:                 Least Squares   F-statistic:                     5.935\n",
      "Date:                Thu, 29 Sep 2022   Prob (F-statistic):           5.92e-06\n",
      "Time:                        22:01:44   Log-Likelihood:               -0.23443\n",
      "No. Observations:                 130   AIC:                             16.47\n",
      "Df Residuals:                     122   BIC:                             39.41\n",
      "Df Model:                           7                                         \n",
      "Covariance Type:            nonrobust                                         \n",
      "=================================================================================\n",
      "                    coef    std err          t      P>|t|      [0.025      0.975]\n",
      "---------------------------------------------------------------------------------\n",
      "const             2.7331      1.520      1.798      0.075      -0.276       5.742\n",
      "SoilMoisture     -0.0011      0.001     -1.937      0.055      -0.002    2.45e-05\n",
      "Average_Temp      0.0913      0.070      1.300      0.196      -0.048       0.230\n",
      "Min_Temp         -0.0249      0.039     -0.644      0.521      -0.101       0.052\n",
      "Max_Temp         -0.0129      0.036     -0.364      0.717      -0.083       0.057\n",
      "Precipitation     0.0013      0.000      3.488      0.001       0.001       0.002\n",
      "Working_days      0.0140      0.018      0.764      0.446      -0.022       0.050\n",
      "HA_Harvested  -3.308e-06   7.24e-07     -4.570      0.000   -4.74e-06   -1.87e-06\n",
      "==============================================================================\n",
      "Omnibus:                        0.930   Durbin-Watson:                   0.589\n",
      "Prob(Omnibus):                  0.628   Jarque-Bera (JB):                1.042\n",
      "Skew:                          -0.157   Prob(JB):                        0.594\n",
      "Kurtosis:                       2.693   Cond. No.                     5.50e+07\n",
      "==============================================================================\n",
      "\n",
      "Notes:\n",
      "[1] Standard Errors assume that the covariance matrix of the errors is correctly specified.\n",
      "[2] The condition number is large, 5.5e+07. This might indicate that there are\n",
      "strong multicollinearity or other numerical problems.\n"
     ]
    },
    {
     "name": "stderr",
     "output_type": "stream",
     "text": [
      "c:\\Users\\tkonathala\\Anaconda3\\lib\\site-packages\\statsmodels\\tsa\\tsatools.py:142: FutureWarning: In a future version of pandas all arguments of concat except for the argument 'objs' will be keyword-only\n",
      "  x = pd.concat(x[::order], 1)\n"
     ]
    }
   ],
   "source": [
    "# adding the constant term\n",
    "x = sm.add_constant(x)\n",
    "\n",
    "# performing the regression\n",
    "# and fitting the model\n",
    "result = sm.OLS(y, x).fit()\n",
    "\n",
    "# printing the summary table\n",
    "print(result.summary())"
   ]
  },
  {
   "cell_type": "markdown",
   "metadata": {},
   "source": [
    "The above OLS report is inline with preliminary correlation analysis \n",
    "- Not all external factors are impacting the FFB Yield - except SoilMoisture, Precipitation, HA_Harvested  "
   ]
  }
 ],
 "metadata": {
  "kernelspec": {
   "display_name": "Python 3.9.7 ('base')",
   "language": "python",
   "name": "python3"
  },
  "language_info": {
   "codemirror_mode": {
    "name": "ipython",
    "version": 3
   },
   "file_extension": ".py",
   "mimetype": "text/x-python",
   "name": "python",
   "nbconvert_exporter": "python",
   "pygments_lexer": "ipython3",
   "version": "3.9.7"
  },
  "vscode": {
   "interpreter": {
    "hash": "f43b76e9028e76b6c5b939f5a488679682e05529af45af7987318be4880a17fa"
   }
  }
 },
 "nbformat": 4,
 "nbformat_minor": 4
}
